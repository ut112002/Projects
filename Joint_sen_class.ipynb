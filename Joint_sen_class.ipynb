{
  "nbformat": 4,
  "nbformat_minor": 0,
  "metadata": {
    "colab": {
      "provenance": [],
      "gpuType": "T4"
    },
    "kernelspec": {
      "name": "python3",
      "display_name": "Python 3"
    },
    "language_info": {
      "name": "python"
    }
  },
  "cells": [
    {
      "cell_type": "code",
      "source": [
        "import tensorflow as tf\n",
        "import os\n",
        "import pandas as pd\n",
        "from sklearn.preprocessing import OneHotEncoder\n",
        "from sklearn.preprocessing import LabelEncoder\n",
        "import string\n",
        "from  keras.layers import TextVectorization\n",
        "import numpy as np\n",
        "from tensorflow import keras"
      ],
      "metadata": {
        "id": "TVcfwUA-GoZ_"
      },
      "execution_count": 1,
      "outputs": []
    },
    {
      "cell_type": "markdown",
      "source": [
        "Downloading The pubMed dataset"
      ],
      "metadata": {
        "id": "rPAMcdFKGJqd"
      }
    },
    {
      "cell_type": "code",
      "execution_count": 2,
      "metadata": {
        "colab": {
          "base_uri": "https://localhost:8080/"
        },
        "id": "lzgCRgKuGBay",
        "outputId": "93edd14d-4c74-48bf-dfef-f21fab2c8281"
      },
      "outputs": [
        {
          "output_type": "stream",
          "name": "stdout",
          "text": [
            "Cloning into 'pubmed-rct'...\n",
            "remote: Enumerating objects: 33, done.\u001b[K\n",
            "remote: Counting objects: 100% (8/8), done.\u001b[K\n",
            "remote: Compressing objects: 100% (3/3), done.\u001b[K\n",
            "remote: Total 33 (delta 5), reused 5 (delta 5), pack-reused 25\u001b[K\n",
            "Unpacking objects: 100% (33/33), 177.08 MiB | 7.19 MiB/s, done.\n",
            "Updating files: 100% (13/13), done.\n",
            "PubMed_200k_RCT\n",
            "PubMed_200k_RCT_numbers_replaced_with_at_sign\n",
            "PubMed_20k_RCT\n",
            "PubMed_20k_RCT_numbers_replaced_with_at_sign\n",
            "README.md\n"
          ]
        }
      ],
      "source": [
        "!git clone https://github.com/Franck-Dernoncourt/pubmed-rct.git\n",
        "!ls pubmed-rct"
      ]
    },
    {
      "cell_type": "code",
      "source": [
        "data = \"pubmed-rct/PubMed_20k_RCT_numbers_replaced_with_at_sign/\""
      ],
      "metadata": {
        "id": "uHJxaYVnGOuw"
      },
      "execution_count": 3,
      "outputs": []
    },
    {
      "cell_type": "code",
      "source": [
        "def preprocess_text_with_line_numbers(filename):\n",
        "  abstract_lines = \"\"\n",
        "  abstract_samples = []\n",
        "  with open(filename, \"r\") as f:\n",
        "     input_lines =  f.readlines()\n",
        "  for line in input_lines:\n",
        "    if line.startswith(\"###\"):\n",
        "      abstract_id = line\n",
        "      abstract_lines = \"\"\n",
        "    elif line.isspace():\n",
        "      abstract_line_split = abstract_lines.splitlines()\n",
        "\n",
        "      for abstract_line_number, abstract_line in enumerate(abstract_line_split):\n",
        "        line_data = {}\n",
        "        target_text_split = abstract_line.split(\"\\t\")\n",
        "        line_data[\"target\"] = target_text_split[0]\n",
        "        line_data[\"text\"] = target_text_split[1].lower()\n",
        "        line_data[\"line_number\"] = abstract_line_number\n",
        "        line_data[\"total_lines\"] = len(abstract_line_split) - 1\n",
        "        abstract_samples.append(line_data)\n",
        "\n",
        "    else:\n",
        "      abstract_lines += line\n",
        "\n",
        "  return abstract_samples"
      ],
      "metadata": {
        "id": "7clAxAjNGlTw"
      },
      "execution_count": 4,
      "outputs": []
    },
    {
      "cell_type": "code",
      "source": [
        "train_samples = preprocess_text_with_line_numbers(data + \"train.txt\")\n",
        "val_samples = preprocess_text_with_line_numbers(data + \"dev.txt\")\n",
        "test_samples = preprocess_text_with_line_numbers(data + \"test.txt\")\n",
        "train_df = pd.DataFrame(train_samples)\n",
        "val_df = pd.DataFrame(val_samples)\n",
        "test_df = pd.DataFrame(test_samples)"
      ],
      "metadata": {
        "id": "jOAsmKIEHqBO"
      },
      "execution_count": 5,
      "outputs": []
    },
    {
      "cell_type": "code",
      "source": [
        "train_df.total_lines.plot.hist();"
      ],
      "metadata": {
        "colab": {
          "base_uri": "https://localhost:8080/",
          "height": 431
        },
        "id": "wVZQKwd7Ib4M",
        "outputId": "bec395d6-7d99-4f71-a3ea-3fa11fd20294"
      },
      "execution_count": 6,
      "outputs": [
        {
          "output_type": "display_data",
          "data": {
            "text/plain": [
              "<Figure size 640x480 with 1 Axes>"
            ],
            "image/png": "[encoded data removed]"
          },
          "metadata": {}
        }
      ]
    },
    {
      "cell_type": "code",
      "source": [
        "train_df.head()"
      ],
      "metadata": {
        "colab": {
          "base_uri": "https://localhost:8080/",
          "height": 206
        },
        "id": "A0AaxP_IIxZI",
        "outputId": "8456d503-0e02-46ee-eca9-d324a070403c"
      },
      "execution_count": 7,
      "outputs": [
        {
          "output_type": "execute_result",
          "data": {
            "text/plain": [
              "      target                                               text  line_number  \\\n",
              "0  OBJECTIVE  to investigate the efficacy of @ weeks of dail...            0   \n",
              "1    METHODS  a total of @ patients with primary knee oa wer...            1   \n",
              "2    METHODS  outcome measures included pain reduction and i...            2   \n",
              "3    METHODS  pain was assessed using the visual analog pain...            3   \n",
              "4    METHODS  secondary outcome measures included the wester...            4   \n",
              "\n",
              "   total_lines  \n",
              "0           11  \n",
              "1           11  \n",
              "2           11  \n",
              "3           11  \n",
              "4           11  "
            ],
            "text/html": [
              "\n",
              "  <div id=\"df-a7efe396-9d73-4c1d-a6d0-a8b078a633cd\">\n",
              "    <div class=\"colab-df-container\">\n",
              "      <div>\n",
              "<style scoped>\n",
              "    .dataframe tbody tr th:only-of-type {\n",
              "        vertical-align: middle;\n",
              "    }\n",
              "\n",
              "    .dataframe tbody tr th {\n",
              "        vertical-align: top;\n",
              "    }\n",
              "\n",
              "    .dataframe thead th {\n",
              "        text-align: right;\n",
              "    }\n",
              "</style>\n",
              "<table border=\"1\" class=\"dataframe\">\n",
              "  <thead>\n",
              "    <tr style=\"text-align: right;\">\n",
              "      <th></th>\n",
              "      <th>target</th>\n",
              "      <th>text</th>\n",
              "      <th>line_number</th>\n",
              "      <th>total_lines</th>\n",
              "    </tr>\n",
              "  </thead>\n",
              "  <tbody>\n",
              "    <tr>\n",
              "      <th>0</th>\n",
              "      <td>OBJECTIVE</td>\n",
              "      <td>to investigate the efficacy of @ weeks of dail...</td>\n",
              "      <td>0</td>\n",
              "      <td>11</td>\n",
              "    </tr>\n",
              "    <tr>\n",
              "      <th>1</th>\n",
              "      <td>METHODS</td>\n",
              "      <td>a total of @ patients with primary knee oa wer...</td>\n",
              "      <td>1</td>\n",
              "      <td>11</td>\n",
              "    </tr>\n",
              "    <tr>\n",
              "      <th>2</th>\n",
              "      <td>METHODS</td>\n",
              "      <td>outcome measures included pain reduction and i...</td>\n",
              "      <td>2</td>\n",
              "      <td>11</td>\n",
              "    </tr>\n",
              "    <tr>\n",
              "      <th>3</th>\n",
              "      <td>METHODS</td>\n",
              "      <td>pain was assessed using the visual analog pain...</td>\n",
              "      <td>3</td>\n",
              "      <td>11</td>\n",
              "    </tr>\n",
              "    <tr>\n",
              "      <th>4</th>\n",
              "      <td>METHODS</td>\n",
              "      <td>secondary outcome measures included the wester...</td>\n",
              "      <td>4</td>\n",
              "      <td>11</td>\n",
              "    </tr>\n",
              "  </tbody>\n",
              "</table>\n",
              "</div>\n",
              "      <button class=\"colab-df-convert\" onclick=\"convertToInteractive('df-a7efe396-9d73-4c1d-a6d0-a8b078a633cd')\"\n",
              "              title=\"Convert this dataframe to an interactive table.\"\n",
              "              style=\"display:none;\">\n",
              "        \n",
              "  <svg xmlns=\"http://www.w3.org/2000/svg\" height=\"24px\"viewBox=\"0 0 24 24\"\n",
              "       width=\"24px\">\n",
              "    <path d=\"M0 0h24v24H0V0z\" fill=\"none\"/>\n",
              "    <path d=\"M18.56 5.44l.94 2.06.94-2.06 2.06-.94-2.06-.94-.94-2.06-.94 2.06-2.06.94zm-11 1L8.5 8.5l.94-2.06 2.06-.94-2.06-.94L8.5 2.5l-.94 2.06-2.06.94zm10 10l.94 2.06.94-2.06 2.06-.94-2.06-.94-.94-2.06-.94 2.06-2.06.94z\"/><path d=\"M17.41 7.96l-1.37-1.37c-.4-.4-.92-.59-1.43-.59-.52 0-1.04.2-1.43.59L10.3 9.45l-7.72 7.72c-.78.78-.78 2.05 0 2.83L4 21.41c.39.39.9.59 1.41.59.51 0 1.02-.2 1.41-.59l7.78-7.78 2.81-2.81c.8-.78.8-2.07 0-2.86zM5.41 20L4 18.59l7.72-7.72 1.47 1.35L5.41 20z\"/>\n",
              "  </svg>\n",
              "      </button>\n",
              "      \n",
              "  <style>\n",
              "    .colab-df-container {\n",
              "      display:flex;\n",
              "      flex-wrap:wrap;\n",
              "      gap: 12px;\n",
              "    }\n",
              "\n",
              "    .colab-df-convert {\n",
              "      background-color: #E8F0FE;\n",
              "      border: none;\n",
              "      border-radius: 50%;\n",
              "      cursor: pointer;\n",
              "      display: none;\n",
              "      fill: #1967D2;\n",
              "      height: 32px;\n",
              "      padding: 0 0 0 0;\n",
              "      width: 32px;\n",
              "    }\n",
              "\n",
              "    .colab-df-convert:hover {\n",
              "      background-color: #E2EBFA;\n",
              "      box-shadow: 0px 1px 2px rgba(60, 64, 67, 0.3), 0px 1px 3px 1px rgba(60, 64, 67, 0.15);\n",
              "      fill: #174EA6;\n",
              "    }\n",
              "\n",
              "    [theme=dark] .colab-df-convert {\n",
              "      background-color: #3B4455;\n",
              "      fill: #D2E3FC;\n",
              "    }\n",
              "\n",
              "    [theme=dark] .colab-df-convert:hover {\n",
              "      background-color: #434B5C;\n",
              "      box-shadow: 0px 1px 3px 1px rgba(0, 0, 0, 0.15);\n",
              "      filter: drop-shadow(0px 1px 2px rgba(0, 0, 0, 0.3));\n",
              "      fill: #FFFFFF;\n",
              "    }\n",
              "  </style>\n",
              "\n",
              "      <script>\n",
              "        const buttonEl =\n",
              "          document.querySelector('#df-a7efe396-9d73-4c1d-a6d0-a8b078a633cd button.colab-df-convert');\n",
              "        buttonEl.style.display =\n",
              "          google.colab.kernel.accessAllowed ? 'block' : 'none';\n",
              "\n",
              "        async function convertToInteractive(key) {\n",
              "          const element = document.querySelector('#df-a7efe396-9d73-4c1d-a6d0-a8b078a633cd');\n",
              "          const dataTable =\n",
              "            await google.colab.kernel.invokeFunction('convertToInteractive',\n",
              "                                                     [key], {});\n",
              "          if (!dataTable) return;\n",
              "\n",
              "          const docLinkHtml = 'Like what you see? Visit the ' +\n",
              "            '<a target=\"_blank\" href=https://colab.research.google.com/notebooks/data_table.ipynb>data table notebook</a>'\n",
              "            + ' to learn more about interactive tables.';\n",
              "          element.innerHTML = '';\n",
              "          dataTable['output_type'] = 'display_data';\n",
              "          await google.colab.output.renderOutput(dataTable, element);\n",
              "          const docLink = document.createElement('div');\n",
              "          docLink.innerHTML = docLinkHtml;\n",
              "          element.appendChild(docLink);\n",
              "        }\n",
              "      </script>\n",
              "    </div>\n",
              "  </div>\n",
              "  "
            ]
          },
          "metadata": {},
          "execution_count": 7
        }
      ]
    },
    {
      "cell_type": "markdown",
      "source": [
        "![WhatsApp Image 2023-07-07 at 19.21.33.jpeg](data:image/jpeg;base64,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)\n",
        "\n",
        "\n",
        "*  So we Will have token embeddings\n",
        "\n",
        "*  Character embeddings and also Positional Embeddings\n",
        "\n",
        "\n"
      ],
      "metadata": {
        "id": "B6rKz4JsnkYA"
      }
    },
    {
      "cell_type": "markdown",
      "source": [
        "# Pre Processing data"
      ],
      "metadata": {
        "id": "gKVaKX9L0Fx7"
      }
    },
    {
      "cell_type": "code",
      "source": [
        "train_sentences = train_df[\"text\"].tolist()\n",
        "val_sentences = val_df[\"text\"].tolist()\n",
        "test_sentences = test_df[\"text\"].tolist()"
      ],
      "metadata": {
        "id": "cioUN5F-JM01"
      },
      "execution_count": 8,
      "outputs": []
    },
    {
      "cell_type": "code",
      "source": [
        "one_hot_encoder = OneHotEncoder(sparse=False)\n",
        "train_labels_one_hot = one_hot_encoder.fit_transform(train_df[\"target\"].to_numpy().reshape(-1, 1))\n",
        "val_labels_one_hot = one_hot_encoder.transform(val_df[\"target\"].to_numpy().reshape(-1, 1))\n",
        "test_labels_one_hot = one_hot_encoder.transform(test_df[\"target\"].to_numpy().reshape(-1, 1))"
      ],
      "metadata": {
        "colab": {
          "base_uri": "https://localhost:8080/"
        },
        "id": "2wnBn046JSat",
        "outputId": "02222841-3146-47f3-d12d-c6c3dab3a667"
      },
      "execution_count": 9,
      "outputs": [
        {
          "output_type": "stream",
          "name": "stderr",
          "text": [
            "/usr/local/lib/python3.10/dist-packages/sklearn/preprocessing/_encoders.py:868: FutureWarning: `sparse` was renamed to `sparse_output` in version 1.2 and will be removed in 1.4. `sparse_output` is ignored unless you leave `sparse` to its default value.\n",
            "  warnings.warn(\n"
          ]
        }
      ]
    },
    {
      "cell_type": "code",
      "source": [
        "label_encoder = LabelEncoder()\n",
        "train_labels_encoded = label_encoder.fit_transform(train_df[\"target\"].to_numpy())\n",
        "val_labels_encoded = label_encoder.transform(val_df[\"target\"].to_numpy())\n",
        "test_labels_encoded = label_encoder.transform(test_df[\"target\"].to_numpy())\n",
        "num_classes = len(label_encoder.classes_)\n",
        "class_names = label_encoder.classes_"
      ],
      "metadata": {
        "id": "RmPvxsdvJy_a"
      },
      "execution_count": 10,
      "outputs": []
    },
    {
      "cell_type": "code",
      "source": [
        "def split_chars(text):\n",
        "  return \" \".join(list(text))"
      ],
      "metadata": {
        "id": "dfxYSsQcJ9bn"
      },
      "execution_count": 11,
      "outputs": []
    },
    {
      "cell_type": "code",
      "source": [
        "train_chars = [split_chars(sentence) for sentence in train_sentences]\n",
        "val_chars = [split_chars(sentence) for sentence in val_sentences]\n",
        "test_chars = [split_chars(sentence) for sentence in test_sentences]"
      ],
      "metadata": {
        "id": "qWsQFs1vKeYQ"
      },
      "execution_count": 12,
      "outputs": []
    },
    {
      "cell_type": "code",
      "source": [
        "char_lens = [len(sentence) for sentence in train_sentences]\n",
        "mean_char_len = np.mean(char_lens)\n",
        "output_seq_char_len = int(np.percentile(char_lens, 95))\n",
        "output_seq_char_len"
      ],
      "metadata": {
        "colab": {
          "base_uri": "https://localhost:8080/"
        },
        "id": "KaD3hSR9LSf-",
        "outputId": "d509fb82-bdc7-46e7-ba84-3530b2004e96"
      },
      "execution_count": 13,
      "outputs": [
        {
          "output_type": "execute_result",
          "data": {
            "text/plain": [
              "290"
            ]
          },
          "metadata": {},
          "execution_count": 13
        }
      ]
    },
    {
      "cell_type": "code",
      "source": [
        "# Create char-level token vectorizer instance\n",
        "NUM_CHAR_TOKENS = len(string.ascii_lowercase + string.digits + string.punctuation) + 2\n",
        "char_vectorizer = TextVectorization(max_tokens=NUM_CHAR_TOKENS,\n",
        "                                    output_sequence_length=output_seq_char_len,\n",
        "                                    standardize=\"lower_and_strip_punctuation\",\n",
        "                                    name=\"char_vectorizer\")\n",
        "\n",
        "# Adapt character vectorizer to training characters\n",
        "char_vectorizer.adapt(train_chars)"
      ],
      "metadata": {
        "id": "gpEs7RT_Kk4K"
      },
      "execution_count": 14,
      "outputs": []
    },
    {
      "cell_type": "code",
      "source": [
        "#Create char embedding layer\n",
        "char_embed = tf.keras.layers.Embedding(input_dim=NUM_CHAR_TOKENS,\n",
        "                              output_dim=25,\n",
        "                              mask_zero=False,\n",
        "                              name=\"char_embed\")\n"
      ],
      "metadata": {
        "id": "VhqA5-aKLj7z"
      },
      "execution_count": 15,
      "outputs": []
    },
    {
      "cell_type": "code",
      "source": [
        "#create one-hot-encoded tensors of our \"line_number\" column\n",
        "train_line_numbers_one_hot = tf.one_hot(train_df[\"line_number\"].to_numpy(), depth=15)\n",
        "val_line_numbers_one_hot = tf.one_hot(val_df[\"line_number\"].to_numpy(), depth=15)\n",
        "test_line_numbers_one_hot = tf.one_hot(test_df[\"line_number\"].to_numpy(), depth=15)"
      ],
      "metadata": {
        "id": "XI-Lcf-PL0O6"
      },
      "execution_count": 16,
      "outputs": []
    },
    {
      "cell_type": "code",
      "source": [
        "#create one-hot-encoded tensors of our \"total_lines\" column\n",
        "train_total_lines_one_hot = tf.one_hot(train_df[\"total_lines\"].to_numpy(), depth=20)\n",
        "val_total_lines_one_hot = tf.one_hot(val_df[\"total_lines\"].to_numpy(), depth=20)\n",
        "test_total_lines_one_hot = tf.one_hot(test_df[\"total_lines\"].to_numpy(), depth=20)"
      ],
      "metadata": {
        "id": "ujWlDVkTMZch"
      },
      "execution_count": 17,
      "outputs": []
    },
    {
      "cell_type": "markdown",
      "source": [
        "# Creating the Model"
      ],
      "metadata": {
        "id": "Rvq8hgti0OdX"
      }
    },
    {
      "cell_type": "code",
      "source": [
        "# Download pretrained TensorFlow Hub USE\n",
        "import tensorflow_hub as hub\n",
        "tf_hub_embedding_layer = hub.KerasLayer(\"https://tfhub.dev/google/universal-sentence-encoder/4\",\n",
        "                                        trainable=False,\n",
        "                                        name=\"universal_sentence_encoder\")"
      ],
      "metadata": {
        "id": "UlFICGrrNFSM"
      },
      "execution_count": 18,
      "outputs": []
    },
    {
      "cell_type": "code",
      "source": [
        "from keras import layers\n",
        "# 1. Token inputs\n",
        "token_inputs = layers.Input(shape=[], dtype=\"string\", name=\"token_inputs\")\n",
        "token_embeddings = tf_hub_embedding_layer(token_inputs)\n",
        "token_outputs = layers.Dense(128, activation=\"relu\")(token_embeddings)\n",
        "token_model = tf.keras.Model(inputs=token_inputs,\n",
        "                             outputs=token_outputs)\n",
        "\n",
        "# 2. Char inputs\n",
        "char_inputs = layers.Input(shape=(1,), dtype=\"string\", name=\"char_inputs\")\n",
        "char_vectors = char_vectorizer(char_inputs)\n",
        "char_embeddings = char_embed(char_vectors)\n",
        "char_bi_lstm = layers.Bidirectional(layers.LSTM(32))(char_embeddings)\n",
        "char_model = tf.keras.Model(inputs=char_inputs,\n",
        "                            outputs=char_bi_lstm)\n",
        "\n",
        "# 3. Line numbers inputs\n",
        "line_number_inputs = layers.Input(shape=(15,), dtype=tf.int32, name=\"line_number_input\")\n",
        "x = layers.Dense(32, activation=\"relu\")(line_number_inputs)\n",
        "line_number_model = tf.keras.Model(inputs=line_number_inputs,\n",
        "                                   outputs=x)\n",
        "\n",
        "# 4. Total lines inputs\n",
        "total_lines_inputs = layers.Input(shape=(20,), dtype=tf.int32, name=\"total_lines_input\")\n",
        "y = layers.Dense(32, activation=\"relu\")(total_lines_inputs)\n",
        "total_line_model = tf.keras.Model(inputs=total_lines_inputs,\n",
        "                                  outputs=y)\n",
        "\n",
        "# 5. Combine token and char embeddings into a hybrid embedding\n",
        "combined_embeddings = layers.Concatenate(name=\"token_char_hybrid_embedding\")([token_model.output,\n",
        "                                                                              char_model.output])\n",
        "z = layers.Dense(256, activation=\"relu\")(combined_embeddings)\n",
        "z = layers.Dropout(0.5)(z)\n",
        "\n",
        "# 6. Combine positional embeddings with combined token and char embeddings into a tribrid embedding\n",
        "z = layers.Concatenate(name=\"token_char_positional_embedding\")([line_number_model.output,\n",
        "                                                                total_line_model.output,\n",
        "                                                                z])\n",
        "\n",
        "# 7. Create output layer\n",
        "output_layer = layers.Dense(5, activation=\"softmax\", name=\"output_layer\")(z)\n",
        "\n",
        "# 8. Put together model\n",
        "model = tf.keras.Model(inputs=[line_number_model.input,\n",
        "                                 total_line_model.input,\n",
        "                                 token_model.input,\n",
        "                                 char_model.input],\n",
        "                         outputs=output_layer)"
      ],
      "metadata": {
        "id": "gTdXMVgwMcEP"
      },
      "execution_count": 19,
      "outputs": []
    },
    {
      "cell_type": "code",
      "source": [
        "model.summary()"
      ],
      "metadata": {
        "colab": {
          "base_uri": "https://localhost:8080/"
        },
        "id": "YCdidLrXN1JP",
        "outputId": "de466ccb-1280-401e-cec9-ad24ab724279"
      },
      "execution_count": 20,
      "outputs": [
        {
          "output_type": "stream",
          "name": "stdout",
          "text": [
            "Model: \"model_4\"\n",
            "__________________________________________________________________________________________________\n",
            " Layer (type)                   Output Shape         Param #     Connected to                     \n",
            "==================================================================================================\n",
            " char_inputs (InputLayer)       [(None, 1)]          0           []                               \n",
            "                                                                                                  \n",
            " token_inputs (InputLayer)      [(None,)]            0           []                               \n",
            "                                                                                                  \n",
            " char_vectorizer (TextVectoriza  (None, 290)         0           ['char_inputs[0][0]']            \n",
            " tion)                                                                                            \n",
            "                                                                                                  \n",
            " universal_sentence_encoder (Ke  (None, 512)         256797824   ['token_inputs[0][0]']           \n",
            " rasLayer)                                                                                        \n",
            "                                                                                                  \n",
            " char_embed (Embedding)         (None, 290, 25)      1750        ['char_vectorizer[0][0]']        \n",
            "                                                                                                  \n",
            " dense (Dense)                  (None, 128)          65664       ['universal_sentence_encoder[0][0\n",
            "                                                                 ]']                              \n",
            "                                                                                                  \n",
            " bidirectional (Bidirectional)  (None, 64)           14848       ['char_embed[0][0]']             \n",
            "                                                                                                  \n",
            " token_char_hybrid_embedding (C  (None, 192)         0           ['dense[0][0]',                  \n",
            " oncatenate)                                                      'bidirectional[0][0]']          \n",
            "                                                                                                  \n",
            " line_number_input (InputLayer)  [(None, 15)]        0           []                               \n",
            "                                                                                                  \n",
            " total_lines_input (InputLayer)  [(None, 20)]        0           []                               \n",
            "                                                                                                  \n",
            " dense_3 (Dense)                (None, 256)          49408       ['token_char_hybrid_embedding[0][\n",
            "                                                                 0]']                             \n",
            "                                                                                                  \n",
            " dense_1 (Dense)                (None, 32)           512         ['line_number_input[0][0]']      \n",
            "                                                                                                  \n",
            " dense_2 (Dense)                (None, 32)           672         ['total_lines_input[0][0]']      \n",
            "                                                                                                  \n",
            " dropout (Dropout)              (None, 256)          0           ['dense_3[0][0]']                \n",
            "                                                                                                  \n",
            " token_char_positional_embeddin  (None, 320)         0           ['dense_1[0][0]',                \n",
            " g (Concatenate)                                                  'dense_2[0][0]',                \n",
            "                                                                  'dropout[0][0]']                \n",
            "                                                                                                  \n",
            " output_layer (Dense)           (None, 5)            1605        ['token_char_positional_embedding\n",
            "                                                                 [0][0]']                         \n",
            "                                                                                                  \n",
            "==================================================================================================\n",
            "Total params: 256,932,283\n",
            "Trainable params: 134,459\n",
            "Non-trainable params: 256,797,824\n",
            "__________________________________________________________________________________________________\n"
          ]
        }
      ]
    },
    {
      "cell_type": "code",
      "source": [
        "from keras.utils import plot_model\n",
        "plot_model(model)"
      ],
      "metadata": {
        "colab": {
          "base_uri": "https://localhost:8080/",
          "height": 856
        },
        "id": "3kUm1dSFN7bJ",
        "outputId": "201295dd-cf87-46c1-b1bb-c653216b906d"
      },
      "execution_count": 21,
      "outputs": [
        {
          "output_type": "execute_result",
          "data": {
            "image/png": "[encoded data removed]",
            "text/plain": [
              "<IPython.core.display.Image object>"
            ]
          },
          "metadata": {},
          "execution_count": 21
        }
      ]
    },
    {
      "cell_type": "code",
      "source": [
        "model.compile(loss=tf.keras.losses.CategoricalCrossentropy(label_smoothing=0.2),\n",
        "                optimizer=tf.keras.optimizers.Adam(),\n",
        "                metrics=[\"accuracy\"])"
      ],
      "metadata": {
        "id": "FLKRsj73N-eJ"
      },
      "execution_count": 22,
      "outputs": []
    },
    {
      "cell_type": "markdown",
      "source": [
        "# Adding Postional Embeddings"
      ],
      "metadata": {
        "id": "s9VQrvPN0bYT"
      }
    },
    {
      "cell_type": "code",
      "source": [
        "# Create training and validation datasets\n",
        "train_pos_char_token_data = tf.data.Dataset.from_tensor_slices((train_line_numbers_one_hot,\n",
        "                                                                train_total_lines_one_hot,\n",
        "                                                                train_sentences,\n",
        "                                                                train_chars))\n",
        "train_pos_char_token_labels = tf.data.Dataset.from_tensor_slices(train_labels_one_hot)\n",
        "train_pos_char_token_dataset = tf.data.Dataset.zip((train_pos_char_token_data, train_pos_char_token_labels))\n",
        "train_pos_char_token_dataset = train_pos_char_token_dataset.batch(32).prefetch(tf.data.AUTOTUNE)\n",
        "val_pos_char_token_data = tf.data.Dataset.from_tensor_slices((val_line_numbers_one_hot,\n",
        "                                                              val_total_lines_one_hot,\n",
        "                                                              val_sentences,\n",
        "                                                              val_chars))\n",
        "val_pos_char_token_labels = tf.data.Dataset.from_tensor_slices(val_labels_one_hot)\n",
        "val_pos_char_token_dataset = tf.data.Dataset.zip((val_pos_char_token_data, val_pos_char_token_labels))\n",
        "val_pos_char_token_dataset = val_pos_char_token_dataset.batch(32).prefetch(tf.data.AUTOTUNE)\n",
        "\n",
        "train_pos_char_token_dataset, val_pos_char_token_dataset"
      ],
      "metadata": {
        "colab": {
          "base_uri": "https://localhost:8080/"
        },
        "id": "6DPILvVjOH81",
        "outputId": "762a9b87-559b-46b6-f309-7a92026ec8b5"
      },
      "execution_count": 23,
      "outputs": [
        {
          "output_type": "execute_result",
          "data": {
            "text/plain": [
              "(<_PrefetchDataset element_spec=((TensorSpec(shape=(None, 15), dtype=tf.float32, name=None), TensorSpec(shape=(None, 20), dtype=tf.float32, name=None), TensorSpec(shape=(None,), dtype=tf.string, name=None), TensorSpec(shape=(None,), dtype=tf.string, name=None)), TensorSpec(shape=(None, 5), dtype=tf.float64, name=None))>,\n",
              " <_PrefetchDataset element_spec=((TensorSpec(shape=(None, 15), dtype=tf.float32, name=None), TensorSpec(shape=(None, 20), dtype=tf.float32, name=None), TensorSpec(shape=(None,), dtype=tf.string, name=None), TensorSpec(shape=(None,), dtype=tf.string, name=None)), TensorSpec(shape=(None, 5), dtype=tf.float64, name=None))>)"
            ]
          },
          "metadata": {},
          "execution_count": 23
        }
      ]
    },
    {
      "cell_type": "markdown",
      "source": [
        "# Training The Model"
      ],
      "metadata": {
        "id": "crJiuUbG0qWE"
      }
    },
    {
      "cell_type": "code",
      "source": [
        "#tf.keras.mixed_precision.set_gloal_policy('mixed_float16')"
      ],
      "metadata": {
        "id": "NUH_biumOgKf"
      },
      "execution_count": 1,
      "outputs": []
    },
    {
      "cell_type": "code",
      "source": [
        "# Fit the token, char and positional embedding model\n",
        "history=model.fit(train_pos_char_token_dataset,\n",
        "                              steps_per_epoch=int(0.1 * len(train_pos_char_token_dataset)),\n",
        "                              epochs=10,\n",
        "                              validation_data=val_pos_char_token_dataset,\n",
        "                              validation_steps=int(0.1 * len(val_pos_char_token_dataset)))"
      ],
      "metadata": {
        "colab": {
          "base_uri": "https://localhost:8080/"
        },
        "id": "SIQSfxo4OKsd",
        "outputId": "708575f4-56d4-4563-87c3-fd1a210c590a"
      },
      "execution_count": 25,
      "outputs": [
        {
          "output_type": "stream",
          "name": "stdout",
          "text": [
            "Epoch 1/10\n",
            "562/562 [==============================] - 35s 35ms/step - loss: 1.1049 - accuracy: 0.7121 - val_loss: 0.9861 - val_accuracy: 0.7992\n",
            "Epoch 2/10\n",
            "562/562 [==============================] - 23s 41ms/step - loss: 0.9697 - accuracy: 0.8118 - val_loss: 0.9526 - val_accuracy: 0.8268\n",
            "Epoch 3/10\n",
            "562/562 [==============================] - 21s 37ms/step - loss: 0.9524 - accuracy: 0.8219 - val_loss: 0.9391 - val_accuracy: 0.8271\n",
            "Epoch 4/10\n",
            "562/562 [==============================] - 19s 34ms/step - loss: 0.9420 - accuracy: 0.8339 - val_loss: 0.9323 - val_accuracy: 0.8354\n",
            "Epoch 5/10\n",
            "562/562 [==============================] - 20s 35ms/step - loss: 0.9376 - accuracy: 0.8359 - val_loss: 0.9241 - val_accuracy: 0.8428\n",
            "Epoch 6/10\n",
            "562/562 [==============================] - 20s 36ms/step - loss: 0.9426 - accuracy: 0.8288 - val_loss: 0.9225 - val_accuracy: 0.8391\n",
            "Epoch 7/10\n",
            "562/562 [==============================] - 20s 36ms/step - loss: 0.9302 - accuracy: 0.8391 - val_loss: 0.9252 - val_accuracy: 0.8351\n",
            "Epoch 8/10\n",
            "562/562 [==============================] - 21s 37ms/step - loss: 0.9241 - accuracy: 0.8403 - val_loss: 0.9099 - val_accuracy: 0.8514\n",
            "Epoch 9/10\n",
            "562/562 [==============================] - 20s 36ms/step - loss: 0.9270 - accuracy: 0.8422 - val_loss: 0.9189 - val_accuracy: 0.8444\n",
            "Epoch 10/10\n",
            "562/562 [==============================] - 20s 35ms/step - loss: 0.9237 - accuracy: 0.8436 - val_loss: 0.9092 - val_accuracy: 0.8441\n"
          ]
        }
      ]
    },
    {
      "cell_type": "code",
      "source": [
        "from sklearn.metrics import accuracy_score, precision_recall_fscore_support\n",
        "def calculate_results(y_true, y_pred):\n",
        "\n",
        "  model_accuracy = accuracy_score(y_true, y_pred) * 100\n",
        "  model_precision, model_recall, model_f1, _ = precision_recall_fscore_support(y_true, y_pred, average=\"weighted\")\n",
        "  model_results = {\"accuracy\": model_accuracy,\n",
        "                  \"precision\": model_precision,\n",
        "                  \"recall\": model_recall,\n",
        "                  \"f1\": model_f1}\n",
        "  return model_results"
      ],
      "metadata": {
        "id": "hJhjFnFKSTGC"
      },
      "execution_count": 26,
      "outputs": []
    },
    {
      "cell_type": "code",
      "source": [
        "model_pred_probs = model.predict(val_pos_char_token_dataset, verbose=1)\n",
        "model_preds = tf.argmax(model_pred_probs, axis=1)\n",
        "model_results = calculate_results(y_true=val_labels_encoded,\n",
        "                                    y_pred=model_preds)"
      ],
      "metadata": {
        "id": "Go4iM-vvOOjA",
        "colab": {
          "base_uri": "https://localhost:8080/"
        },
        "outputId": "d6c1bb75-f9d1-4f0b-bc37-2f4f49106d36"
      },
      "execution_count": 27,
      "outputs": [
        {
          "output_type": "stream",
          "name": "stdout",
          "text": [
            "945/945 [==============================] - 21s 20ms/step\n"
          ]
        }
      ]
    },
    {
      "cell_type": "code",
      "source": [
        "model_results"
      ],
      "metadata": {
        "id": "-DmhB3JSTTZz",
        "colab": {
          "base_uri": "https://localhost:8080/"
        },
        "outputId": "8949f715-535a-4bd2-febc-9725bae4c1a2"
      },
      "execution_count": 28,
      "outputs": [
        {
          "output_type": "execute_result",
          "data": {
            "text/plain": [
              "{'accuracy': 84.93975903614458,\n",
              " 'precision': 0.850720972365173,\n",
              " 'recall': 0.8493975903614458,\n",
              " 'f1': 0.8462353178118962}"
            ]
          },
          "metadata": {},
          "execution_count": 28
        }
      ]
    },
    {
      "cell_type": "markdown",
      "source": [
        "# Testing Out the Model"
      ],
      "metadata": {
        "id": "dOeAAYYO0vJ3"
      }
    },
    {
      "cell_type": "code",
      "source": [
        "import json\n",
        "!wget https://raw.githubusercontent.com/mrdbourke/tensorflow-deep-learning/main/extras/skimlit_example_abstracts.json\n",
        "\n",
        "with open(\"skimlit_example_abstracts.json\", \"r\") as f:\n",
        "  example_abstracts = json.load(f)\n",
        "\n",
        "example_abstracts"
      ],
      "metadata": {
        "id": "wpB4YW6xTvsP",
        "colab": {
          "base_uri": "https://localhost:8080/"
        },
        "outputId": "3bcb156b-a43e-4a6e-e9ab-b5c01b8120d4"
      },
      "execution_count": 29,
      "outputs": [
        {
          "output_type": "stream",
          "name": "stdout",
          "text": [
            "--2023-07-07 15:01:29--  https://raw.githubusercontent.com/mrdbourke/tensorflow-deep-learning/main/extras/skimlit_example_abstracts.json\n",
            "Resolving raw.githubusercontent.com (raw.githubusercontent.com)... 185.199.108.133, 185.199.109.133, 185.199.110.133, ...\n",
            "Connecting to raw.githubusercontent.com (raw.githubusercontent.com)|185.199.108.133|:443... connected.\n",
            "HTTP request sent, awaiting response... 200 OK\n",
            "Length: 6737 (6.6K) [text/plain]\n",
            "Saving to: ‘skimlit_example_abstracts.json’\n",
            "\n",
            "\r          skimlit_e   0%[                    ]       0  --.-KB/s               \rskimlit_example_abs 100%[===================>]   6.58K  --.-KB/s    in 0s      \n",
            "\n",
            "2023-07-07 15:01:29 (70.1 MB/s) - ‘skimlit_example_abstracts.json’ saved [6737/6737]\n",
            "\n"
          ]
        },
        {
          "output_type": "execute_result",
          "data": {
            "text/plain": [
              "[{'abstract': 'This RCT examined the efficacy of a manualized social intervention for children with HFASDs. Participants were randomly assigned to treatment or wait-list conditions. Treatment included instruction and therapeutic activities targeting social skills, face-emotion recognition, interest expansion, and interpretation of non-literal language. A response-cost program was applied to reduce problem behaviors and foster skills acquisition. Significant treatment effects were found for five of seven primary outcome measures (parent ratings and direct child measures). Secondary measures based on staff ratings (treatment group only) corroborated gains reported by parents. High levels of parent, child and staff satisfaction were reported, along with high levels of treatment fidelity. Standardized effect size estimates were primarily in the medium and large ranges and favored the treatment group.',\n",
              "  'source': 'https://pubmed.ncbi.nlm.nih.gov/20232240/',\n",
              "  'details': 'RCT of a manualized social treatment for high-functioning autism spectrum disorders'},\n",
              " {'abstract': \"Postpartum depression (PPD) is the most prevalent mood disorder associated with childbirth. No single cause of PPD has been identified, however the increased risk of nutritional deficiencies incurred through the high nutritional requirements of pregnancy may play a role in the pathology of depressive symptoms. Three nutritional interventions have drawn particular interest as possible non-invasive and cost-effective prevention and/or treatment strategies for PPD; omega-3 (n-3) long chain polyunsaturated fatty acids (LCPUFA), vitamin D and overall diet. We searched for meta-analyses of randomised controlled trials (RCT's) of nutritional interventions during the perinatal period with PPD as an outcome, and checked for any trials published subsequently to the meta-analyses. Fish oil: Eleven RCT's of prenatal fish oil supplementation RCT's show null and positive effects on PPD symptoms. Vitamin D: no relevant RCT's were identified, however seven observational studies of maternal vitamin D levels with PPD outcomes showed inconsistent associations. Diet: Two Australian RCT's with dietary advice interventions in pregnancy had a positive and null result on PPD. With the exception of fish oil, few RCT's with nutritional interventions during pregnancy assess PPD. Further research is needed to determine whether nutritional intervention strategies during pregnancy can protect against symptoms of PPD. Given the prevalence of PPD and ease of administering PPD measures, we recommend future prenatal nutritional RCT's include PPD as an outcome.\",\n",
              "  'source': 'https://pubmed.ncbi.nlm.nih.gov/28012571/',\n",
              "  'details': 'Formatting removed (can be used to compare model to actual example)'},\n",
              " {'abstract': 'Mental illness, including depression, anxiety and bipolar disorder, accounts for a significant proportion of global disability and poses a substantial social, economic and heath burden. Treatment is presently dominated by pharmacotherapy, such as antidepressants, and psychotherapy, such as cognitive behavioural therapy; however, such treatments avert less than half of the disease burden, suggesting that additional strategies are needed to prevent and treat mental disorders. There are now consistent mechanistic, observational and interventional data to suggest diet quality may be a modifiable risk factor for mental illness. This review provides an overview of the nutritional psychiatry field. It includes a discussion of the neurobiological mechanisms likely modulated by diet, the use of dietary and nutraceutical interventions in mental disorders, and recommendations for further research. Potential biological pathways related to mental disorders include inflammation, oxidative stress, the gut microbiome, epigenetic modifications and neuroplasticity. Consistent epidemiological evidence, particularly for depression, suggests an association between measures of diet quality and mental health, across multiple populations and age groups; these do not appear to be explained by other demographic, lifestyle factors or reverse causality. Our recently published intervention trial provides preliminary clinical evidence that dietary interventions in clinically diagnosed populations are feasible and can provide significant clinical benefit. Furthermore, nutraceuticals including n-3 fatty acids, folate, S-adenosylmethionine, N-acetyl cysteine and probiotics, among others, are promising avenues for future research. Continued research is now required to investigate the efficacy of intervention studies in large cohorts and within clinically relevant populations, particularly in patients with schizophrenia, bipolar and anxiety disorders.',\n",
              "  'source': 'https://pubmed.ncbi.nlm.nih.gov/28942748/',\n",
              "  'details': 'Effect of nutrition on mental health'},\n",
              " {'abstract': \"Hepatitis C virus (HCV) and alcoholic liver disease (ALD), either alone or in combination, count for more than two thirds of all liver diseases in the Western world. There is no safe level of drinking in HCV-infected patients and the most effective goal for these patients is total abstinence. Baclofen, a GABA(B) receptor agonist, represents a promising pharmacotherapy for alcohol dependence (AD). Previously, we performed a randomized clinical trial (RCT), which demonstrated the safety and efficacy of baclofen in patients affected by AD and cirrhosis. The goal of this post-hoc analysis was to explore baclofen's effect in a subgroup of alcohol-dependent HCV-infected cirrhotic patients. Any patient with HCV infection was selected for this analysis. Among the 84 subjects randomized in the main trial, 24 alcohol-dependent cirrhotic patients had a HCV infection; 12 received baclofen 10mg t.i.d. and 12 received placebo for 12-weeks. With respect to the placebo group (3/12, 25.0%), a significantly higher number of patients who achieved and maintained total alcohol abstinence was found in the baclofen group (10/12, 83.3%; p=0.0123). Furthermore, in the baclofen group, compared to placebo, there was a significantly higher increase in albumin values from baseline (p=0.0132) and a trend toward a significant reduction in INR levels from baseline (p=0.0716). In conclusion, baclofen was safe and significantly more effective than placebo in promoting alcohol abstinence, and improving some Liver Function Tests (LFTs) (i.e. albumin, INR) in alcohol-dependent HCV-infected cirrhotic patients. Baclofen may represent a clinically relevant alcohol pharmacotherapy for these patients.\",\n",
              "  'source': 'https://pubmed.ncbi.nlm.nih.gov/22244707/',\n",
              "  'details': 'Baclofen promotes alcohol abstinence in alcohol dependent cirrhotic patients with hepatitis C virus (HCV) infection'}]"
            ]
          },
          "metadata": {},
          "execution_count": 29
        }
      ]
    },
    {
      "cell_type": "code",
      "source": [
        "abstracts = pd.DataFrame(example_abstracts)\n",
        "abstracts"
      ],
      "metadata": {
        "id": "3tq_22pbbUBq",
        "colab": {
          "base_uri": "https://localhost:8080/",
          "height": 175
        },
        "outputId": "ec60a8bb-adaa-4e4f-a66b-0d46703375eb"
      },
      "execution_count": 30,
      "outputs": [
        {
          "output_type": "execute_result",
          "data": {
            "text/plain": [
              "                                            abstract  \\\n",
              "0  This RCT examined the efficacy of a manualized...   \n",
              "1  Postpartum depression (PPD) is the most preval...   \n",
              "2  Mental illness, including depression, anxiety ...   \n",
              "3  Hepatitis C virus (HCV) and alcoholic liver di...   \n",
              "\n",
              "                                      source  \\\n",
              "0  https://pubmed.ncbi.nlm.nih.gov/20232240/   \n",
              "1  https://pubmed.ncbi.nlm.nih.gov/28012571/   \n",
              "2  https://pubmed.ncbi.nlm.nih.gov/28942748/   \n",
              "3  https://pubmed.ncbi.nlm.nih.gov/22244707/   \n",
              "\n",
              "                                             details  \n",
              "0  RCT of a manualized social treatment for high-...  \n",
              "1  Formatting removed (can be used to compare mod...  \n",
              "2               Effect of nutrition on mental health  \n",
              "3  Baclofen promotes alcohol abstinence in alcoho...  "
            ],
            "text/html": [
              "\n",
              "  <div id=\"df-10c5de02-392a-452b-9dc6-1c6db45b28e6\">\n",
              "    <div class=\"colab-df-container\">\n",
              "      <div>\n",
              "<style scoped>\n",
              "    .dataframe tbody tr th:only-of-type {\n",
              "        vertical-align: middle;\n",
              "    }\n",
              "\n",
              "    .dataframe tbody tr th {\n",
              "        vertical-align: top;\n",
              "    }\n",
              "\n",
              "    .dataframe thead th {\n",
              "        text-align: right;\n",
              "    }\n",
              "</style>\n",
              "<table border=\"1\" class=\"dataframe\">\n",
              "  <thead>\n",
              "    <tr style=\"text-align: right;\">\n",
              "      <th></th>\n",
              "      <th>abstract</th>\n",
              "      <th>source</th>\n",
              "      <th>details</th>\n",
              "    </tr>\n",
              "  </thead>\n",
              "  <tbody>\n",
              "    <tr>\n",
              "      <th>0</th>\n",
              "      <td>This RCT examined the efficacy of a manualized...</td>\n",
              "      <td>https://pubmed.ncbi.nlm.nih.gov/20232240/</td>\n",
              "      <td>RCT of a manualized social treatment for high-...</td>\n",
              "    </tr>\n",
              "    <tr>\n",
              "      <th>1</th>\n",
              "      <td>Postpartum depression (PPD) is the most preval...</td>\n",
              "      <td>https://pubmed.ncbi.nlm.nih.gov/28012571/</td>\n",
              "      <td>Formatting removed (can be used to compare mod...</td>\n",
              "    </tr>\n",
              "    <tr>\n",
              "      <th>2</th>\n",
              "      <td>Mental illness, including depression, anxiety ...</td>\n",
              "      <td>https://pubmed.ncbi.nlm.nih.gov/28942748/</td>\n",
              "      <td>Effect of nutrition on mental health</td>\n",
              "    </tr>\n",
              "    <tr>\n",
              "      <th>3</th>\n",
              "      <td>Hepatitis C virus (HCV) and alcoholic liver di...</td>\n",
              "      <td>https://pubmed.ncbi.nlm.nih.gov/22244707/</td>\n",
              "      <td>Baclofen promotes alcohol abstinence in alcoho...</td>\n",
              "    </tr>\n",
              "  </tbody>\n",
              "</table>\n",
              "</div>\n",
              "      <button class=\"colab-df-convert\" onclick=\"convertToInteractive('df-10c5de02-392a-452b-9dc6-1c6db45b28e6')\"\n",
              "              title=\"Convert this dataframe to an interactive table.\"\n",
              "              style=\"display:none;\">\n",
              "        \n",
              "  <svg xmlns=\"http://www.w3.org/2000/svg\" height=\"24px\"viewBox=\"0 0 24 24\"\n",
              "       width=\"24px\">\n",
              "    <path d=\"M0 0h24v24H0V0z\" fill=\"none\"/>\n",
              "    <path d=\"M18.56 5.44l.94 2.06.94-2.06 2.06-.94-2.06-.94-.94-2.06-.94 2.06-2.06.94zm-11 1L8.5 8.5l.94-2.06 2.06-.94-2.06-.94L8.5 2.5l-.94 2.06-2.06.94zm10 10l.94 2.06.94-2.06 2.06-.94-2.06-.94-.94-2.06-.94 2.06-2.06.94z\"/><path d=\"M17.41 7.96l-1.37-1.37c-.4-.4-.92-.59-1.43-.59-.52 0-1.04.2-1.43.59L10.3 9.45l-7.72 7.72c-.78.78-.78 2.05 0 2.83L4 21.41c.39.39.9.59 1.41.59.51 0 1.02-.2 1.41-.59l7.78-7.78 2.81-2.81c.8-.78.8-2.07 0-2.86zM5.41 20L4 18.59l7.72-7.72 1.47 1.35L5.41 20z\"/>\n",
              "  </svg>\n",
              "      </button>\n",
              "      \n",
              "  <style>\n",
              "    .colab-df-container {\n",
              "      display:flex;\n",
              "      flex-wrap:wrap;\n",
              "      gap: 12px;\n",
              "    }\n",
              "\n",
              "    .colab-df-convert {\n",
              "      background-color: #E8F0FE;\n",
              "      border: none;\n",
              "      border-radius: 50%;\n",
              "      cursor: pointer;\n",
              "      display: none;\n",
              "      fill: #1967D2;\n",
              "      height: 32px;\n",
              "      padding: 0 0 0 0;\n",
              "      width: 32px;\n",
              "    }\n",
              "\n",
              "    .colab-df-convert:hover {\n",
              "      background-color: #E2EBFA;\n",
              "      box-shadow: 0px 1px 2px rgba(60, 64, 67, 0.3), 0px 1px 3px 1px rgba(60, 64, 67, 0.15);\n",
              "      fill: #174EA6;\n",
              "    }\n",
              "\n",
              "    [theme=dark] .colab-df-convert {\n",
              "      background-color: #3B4455;\n",
              "      fill: #D2E3FC;\n",
              "    }\n",
              "\n",
              "    [theme=dark] .colab-df-convert:hover {\n",
              "      background-color: #434B5C;\n",
              "      box-shadow: 0px 1px 3px 1px rgba(0, 0, 0, 0.15);\n",
              "      filter: drop-shadow(0px 1px 2px rgba(0, 0, 0, 0.3));\n",
              "      fill: #FFFFFF;\n",
              "    }\n",
              "  </style>\n",
              "\n",
              "      <script>\n",
              "        const buttonEl =\n",
              "          document.querySelector('#df-10c5de02-392a-452b-9dc6-1c6db45b28e6 button.colab-df-convert');\n",
              "        buttonEl.style.display =\n",
              "          google.colab.kernel.accessAllowed ? 'block' : 'none';\n",
              "\n",
              "        async function convertToInteractive(key) {\n",
              "          const element = document.querySelector('#df-10c5de02-392a-452b-9dc6-1c6db45b28e6');\n",
              "          const dataTable =\n",
              "            await google.colab.kernel.invokeFunction('convertToInteractive',\n",
              "                                                     [key], {});\n",
              "          if (!dataTable) return;\n",
              "\n",
              "          const docLinkHtml = 'Like what you see? Visit the ' +\n",
              "            '<a target=\"_blank\" href=https://colab.research.google.com/notebooks/data_table.ipynb>data table notebook</a>'\n",
              "            + ' to learn more about interactive tables.';\n",
              "          element.innerHTML = '';\n",
              "          dataTable['output_type'] = 'display_data';\n",
              "          await google.colab.output.renderOutput(dataTable, element);\n",
              "          const docLink = document.createElement('div');\n",
              "          docLink.innerHTML = docLinkHtml;\n",
              "          element.appendChild(docLink);\n",
              "        }\n",
              "      </script>\n",
              "    </div>\n",
              "  </div>\n",
              "  "
            ]
          },
          "metadata": {},
          "execution_count": 30
        }
      ]
    },
    {
      "cell_type": "code",
      "source": [
        "from spacy.lang.en import English\n",
        "nlp = English()\n",
        "\n",
        "sentencizer = nlp.add_pipe(\"sentencizer\")\n",
        "doc = nlp(example_abstracts[0][\"abstract\"])\n",
        "abstract_lines = [str(sent) for sent in list(doc.sents)]\n",
        "abstract_lines"
      ],
      "metadata": {
        "id": "nnbXL50sbXRL",
        "colab": {
          "base_uri": "https://localhost:8080/"
        },
        "outputId": "147c823d-760b-4cea-d631-706ad02521b2"
      },
      "execution_count": 31,
      "outputs": [
        {
          "output_type": "execute_result",
          "data": {
            "text/plain": [
              "['This RCT examined the efficacy of a manualized social intervention for children with HFASDs.',\n",
              " 'Participants were randomly assigned to treatment or wait-list conditions.',\n",
              " 'Treatment included instruction and therapeutic activities targeting social skills, face-emotion recognition, interest expansion, and interpretation of non-literal language.',\n",
              " 'A response-cost program was applied to reduce problem behaviors and foster skills acquisition.',\n",
              " 'Significant treatment effects were found for five of seven primary outcome measures (parent ratings and direct child measures).',\n",
              " 'Secondary measures based on staff ratings (treatment group only) corroborated gains reported by parents.',\n",
              " 'High levels of parent, child and staff satisfaction were reported, along with high levels of treatment fidelity.',\n",
              " 'Standardized effect size estimates were primarily in the medium and large ranges and favored the treatment group.']"
            ]
          },
          "metadata": {},
          "execution_count": 31
        }
      ]
    },
    {
      "cell_type": "code",
      "source": [
        "total_lines_in_sample = len(abstract_lines)\n",
        "\n",
        "# Go through each line in abstract and create a list of dictionaries containing features for each line\n",
        "sample_lines = []\n",
        "for i, line in enumerate(abstract_lines):\n",
        "  sample_dict = {}\n",
        "  sample_dict[\"text\"] = str(line)\n",
        "  sample_dict[\"line_number\"] = i\n",
        "  sample_dict[\"total_lines\"] = total_lines_in_sample - 1\n",
        "  sample_lines.append(sample_dict)\n",
        "sample_lines"
      ],
      "metadata": {
        "id": "MF7whr_8bzC3",
        "colab": {
          "base_uri": "https://localhost:8080/"
        },
        "outputId": "e5b10f77-32ae-41d4-d57b-6dcf3760d118"
      },
      "execution_count": 32,
      "outputs": [
        {
          "output_type": "execute_result",
          "data": {
            "text/plain": [
              "[{'text': 'This RCT examined the efficacy of a manualized social intervention for children with HFASDs.',\n",
              "  'line_number': 0,\n",
              "  'total_lines': 7},\n",
              " {'text': 'Participants were randomly assigned to treatment or wait-list conditions.',\n",
              "  'line_number': 1,\n",
              "  'total_lines': 7},\n",
              " {'text': 'Treatment included instruction and therapeutic activities targeting social skills, face-emotion recognition, interest expansion, and interpretation of non-literal language.',\n",
              "  'line_number': 2,\n",
              "  'total_lines': 7},\n",
              " {'text': 'A response-cost program was applied to reduce problem behaviors and foster skills acquisition.',\n",
              "  'line_number': 3,\n",
              "  'total_lines': 7},\n",
              " {'text': 'Significant treatment effects were found for five of seven primary outcome measures (parent ratings and direct child measures).',\n",
              "  'line_number': 4,\n",
              "  'total_lines': 7},\n",
              " {'text': 'Secondary measures based on staff ratings (treatment group only) corroborated gains reported by parents.',\n",
              "  'line_number': 5,\n",
              "  'total_lines': 7},\n",
              " {'text': 'High levels of parent, child and staff satisfaction were reported, along with high levels of treatment fidelity.',\n",
              "  'line_number': 6,\n",
              "  'total_lines': 7},\n",
              " {'text': 'Standardized effect size estimates were primarily in the medium and large ranges and favored the treatment group.',\n",
              "  'line_number': 7,\n",
              "  'total_lines': 7}]"
            ]
          },
          "metadata": {},
          "execution_count": 32
        }
      ]
    },
    {
      "cell_type": "code",
      "source": [
        "# Get all line_number values from sample abstract\n",
        "test_abstract_line_numbers = [line[\"line_number\"] for line in sample_lines]\n",
        "# One-hot encode to same depth as training data, so model accepts right input shape\n",
        "test_abstract_line_numbers_one_hot = tf.one_hot(test_abstract_line_numbers, depth=15)\n",
        "\n",
        "# Get all total_lines values from sample abstract\n",
        "test_abstract_total_lines = [line[\"total_lines\"] for line in sample_lines]\n",
        "# One-hot encode to same depth as training data, so model accepts right input shape\n",
        "test_abstract_total_lines_one_hot = tf.one_hot(test_abstract_total_lines, depth=20)\n",
        "\n",
        "# Split abstract lines into characters\n",
        "abstract_chars = [split_chars(sentence) for sentence in abstract_lines]"
      ],
      "metadata": {
        "id": "XFqBTfFWb5GI"
      },
      "execution_count": 33,
      "outputs": []
    },
    {
      "cell_type": "code",
      "source": [
        "test_abstract_pred_probs = model.predict(x=(test_abstract_line_numbers_one_hot,\n",
        "                                                   test_abstract_total_lines_one_hot,\n",
        "                                                   tf.constant(abstract_lines),\n",
        "                                                   tf.constant(abstract_chars)))\n",
        "test_abstract_preds = tf.argmax(test_abstract_pred_probs, axis=1)"
      ],
      "metadata": {
        "id": "CyTwpIClb8bs",
        "colab": {
          "base_uri": "https://localhost:8080/"
        },
        "outputId": "11d15929-9f2d-4078-8034-eac7eca33527"
      },
      "execution_count": 34,
      "outputs": [
        {
          "output_type": "stream",
          "name": "stdout",
          "text": [
            "1/1 [==============================] - 1s 1s/step\n"
          ]
        }
      ]
    },
    {
      "cell_type": "code",
      "source": [
        "test_abstract_pred_classes = [label_encoder.classes_[i] for i in test_abstract_preds]\n",
        "for i, line in enumerate(abstract_lines):\n",
        "  print(f\"{test_abstract_pred_classes[i]}: {line}\")"
      ],
      "metadata": {
        "id": "HcY7U9J4cSyz",
        "colab": {
          "base_uri": "https://localhost:8080/"
        },
        "outputId": "98d67c3e-cb24-4fd0-b072-7f6da9d35796"
      },
      "execution_count": 35,
      "outputs": [
        {
          "output_type": "stream",
          "name": "stdout",
          "text": [
            "OBJECTIVE: This RCT examined the efficacy of a manualized social intervention for children with HFASDs.\n",
            "METHODS: Participants were randomly assigned to treatment or wait-list conditions.\n",
            "METHODS: Treatment included instruction and therapeutic activities targeting social skills, face-emotion recognition, interest expansion, and interpretation of non-literal language.\n",
            "METHODS: A response-cost program was applied to reduce problem behaviors and foster skills acquisition.\n",
            "METHODS: Significant treatment effects were found for five of seven primary outcome measures (parent ratings and direct child measures).\n",
            "METHODS: Secondary measures based on staff ratings (treatment group only) corroborated gains reported by parents.\n",
            "RESULTS: High levels of parent, child and staff satisfaction were reported, along with high levels of treatment fidelity.\n",
            "RESULTS: Standardized effect size estimates were primarily in the medium and large ranges and favored the treatment group.\n"
          ]
        }
      ]
    }
  ]
}